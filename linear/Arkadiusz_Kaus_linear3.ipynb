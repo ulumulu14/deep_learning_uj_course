{
 "cells": [
  {
   "cell_type": "code",
   "execution_count": 1,
   "metadata": {
    "slideshow": {
     "slide_type": "skip"
    }
   },
   "outputs": [],
   "source": [
    "import numpy as np\n",
    "import matplotlib.pyplot as plt\n",
    "import matplotlib.text as text\n",
    "from matplotlib.ticker import FormatStrFormatter"
   ]
  },
  {
   "cell_type": "markdown",
   "metadata": {
    "slideshow": {
     "slide_type": "slide"
    }
   },
   "source": [
    "## Linear regression"
   ]
  },
  {
   "cell_type": "markdown",
   "metadata": {},
   "source": [
    "In this notebook we will consider a simple linear regression model: "
   ]
  },
  {
   "cell_type": "markdown",
   "metadata": {
    "slideshow": {
     "slide_type": "fragment"
    }
   },
   "source": [
    "$$ y_i = x_{ij} w_j + b$$"
   ]
  },
  {
   "cell_type": "markdown",
   "metadata": {},
   "source": [
    "We will be using the \"sumation conventions\": when an index is repeated the sumation over this index is implied:"
   ]
  },
  {
   "cell_type": "markdown",
   "metadata": {},
   "source": [
    "$$ \n",
    "x_{ij} w_j \\equiv   \\sum_j x_{ij} w_j \n",
    "$$"
   ]
  },
  {
   "cell_type": "markdown",
   "metadata": {},
   "source": [
    "#### Problem 1"
   ]
  },
  {
   "cell_type": "markdown",
   "metadata": {},
   "source": [
    "Implement function `linear(x,w,b)` that given feature matrix $\\mathbf{x}$, weights $\\mathbf{w}$ and bias $b$  returns $\\mathbf{y}$. **Hint** Use matrix multiplication operator `@`.  "
   ]
  },
  {
   "cell_type": "code",
   "execution_count": 2,
   "metadata": {},
   "outputs": [],
   "source": [
    "def linear(x, w, b):\n",
    "    return np.dot(w, x.T) + b"
   ]
  },
  {
   "cell_type": "markdown",
   "metadata": {},
   "source": [
    "### Data"
   ]
  },
  {
   "cell_type": "markdown",
   "metadata": {},
   "source": [
    "#### Problem 2"
   ]
  },
  {
   "cell_type": "markdown",
   "metadata": {
    "slideshow": {
     "slide_type": "-"
    }
   },
   "source": [
    "Generate a random feature matrix $\\mathbf{x}$ witch 10000 samples and three features,  \n",
    "such that first feature is drawn from N(0,1), second feature from  U(,1) and third from N(1,2)."
   ]
  },
  {
   "cell_type": "markdown",
   "metadata": {
    "slideshow": {
     "slide_type": "-"
    }
   },
   "source": [
    "$N(\\mu,\\sigma)$ denotes normal distribution with mean $\\mu$ and standard deviation $\\sigma$. To generate random numbers you can use `numpy.random.normal` and `numpy.random.uniform` functions. To collect all features together you can use `numpy.stack` function. "
   ]
  },
  {
   "cell_type": "code",
   "execution_count": 3,
   "metadata": {},
   "outputs": [
    {
     "name": "stdout",
     "output_type": "stream",
     "text": [
      "[[ 0.56168113  0.18733783 -2.08107712]\n",
      " [ 0.10503917  0.21598683  2.1916687 ]\n",
      " [-2.85582166  0.41550995 -0.37886192]\n",
      " ...\n",
      " [-0.52066269  0.66865579  4.46162156]\n",
      " [-0.33899408  0.23637774 -1.58425145]\n",
      " [ 0.33556003  0.95785246  2.29995323]]\n"
     ]
    }
   ],
   "source": [
    "x = np.stack((np.random.normal(0, 1, 10000),\n",
    "              np.random.uniform(0, 1, 10000),\n",
    "              np.random.normal(1, 2, 10000))).T\n",
    "\n",
    "print(x)"
   ]
  },
  {
   "cell_type": "markdown",
   "metadata": {
    "slideshow": {
     "slide_type": "-"
    }
   },
   "source": [
    "Then using $\\mathbf{x}$, weights $w_{true}$  and  bias $b_{true}$:  "
   ]
  },
  {
   "cell_type": "code",
   "execution_count": 4,
   "metadata": {
    "slideshow": {
     "slide_type": "-"
    }
   },
   "outputs": [],
   "source": [
    "w_true = np.array([0.2, 0.5,-0.2])\n",
    "b_true = -1"
   ]
  },
  {
   "cell_type": "markdown",
   "metadata": {
    "slideshow": {
     "slide_type": "-"
    }
   },
   "source": [
    "generate output $\\mathbf{y}$ assuming a normaly distributed $N(0,0.1)$ noise $\\mathbf{\\epsilon}$. "
   ]
  },
  {
   "cell_type": "markdown",
   "metadata": {
    "slideshow": {
     "slide_type": "-"
    }
   },
   "source": [
    "$$ y_i =  \n",
    "x_{ij} w_j+b +\\epsilon_i \n",
    "$$"
   ]
  },
  {
   "cell_type": "code",
   "execution_count": 5,
   "metadata": {},
   "outputs": [
    {
     "name": "stdout",
     "output_type": "stream",
     "text": [
      "[-0.47622551 -1.37653177 -1.15179035 ... -1.76612498 -0.72255732\n",
      " -0.86096194]\n"
     ]
    }
   ],
   "source": [
    "noise = np.random.normal(0, 0.1, 10000)\n",
    "y = linear(x, w_true, b_true) + noise\n",
    "print(y)"
   ]
  },
  {
   "cell_type": "markdown",
   "metadata": {
    "slideshow": {
     "slide_type": "slide"
    }
   },
   "source": [
    "### Loss"
   ]
  },
  {
   "cell_type": "markdown",
   "metadata": {},
   "source": [
    "#### Problem 3"
   ]
  },
  {
   "cell_type": "markdown",
   "metadata": {},
   "source": [
    "Given the means square loss"
   ]
  },
  {
   "cell_type": "markdown",
   "metadata": {
    "slideshow": {
     "slide_type": "fragment"
    }
   },
   "source": [
    "$$ MSE(w,b|y,x) = \\frac{1}{2}\\frac{1}{N}\\sum_{i=0}^{N-1} (y_i -  x_{ij} w_j -b  )^2$$"
   ]
  },
  {
   "cell_type": "markdown",
   "metadata": {},
   "source": [
    "write down the python function `mse(y,x,w,b)` implementing it:"
   ]
  },
  {
   "cell_type": "code",
   "execution_count": 6,
   "metadata": {},
   "outputs": [],
   "source": [
    "def mse(y, x, w, b):\n",
    "    return np.sum((y - linear(w, x, b))**2) / (2*len(y))"
   ]
  },
  {
   "cell_type": "markdown",
   "metadata": {},
   "source": [
    "### Gradient"
   ]
  },
  {
   "cell_type": "markdown",
   "metadata": {
    "slideshow": {
     "slide_type": "-"
    },
    "tags": [
     "answer"
    ]
   },
   "source": [
    "Find the gradient of the loss function with respect to weights $w$ and bias $b$. "
   ]
  },
  {
   "cell_type": "markdown",
   "metadata": {},
   "source": [
    "#### Bonus problem "
   ]
  },
  {
   "cell_type": "markdown",
   "metadata": {},
   "source": [
    "Solve numerically the equations "
   ]
  },
  {
   "cell_type": "markdown",
   "metadata": {},
   "source": [
    "$$\\frac{\\partial}{\\partial w_k} MSE(w,b|y,x) = 0,\\quad \\frac{\\partial}{\\partial b} MSE(w,b|y,x) = 0$$"
   ]
  },
  {
   "cell_type": "markdown",
   "metadata": {},
   "source": [
    "for $w_k$ and $b$.  You can use the `numpy.linalg.solve` to solve the linear equation. "
   ]
  },
  {
   "cell_type": "code",
   "execution_count": 7,
   "metadata": {
    "tags": [
     "answer"
    ]
   },
   "outputs": [
    {
     "name": "stdout",
     "output_type": "stream",
     "text": [
      "[ 0.19897966  0.49950004 -0.20033852] -1.001051806781033\n"
     ]
    }
   ],
   "source": [
    "x_bar = x.mean(0)\n",
    "y_bar = y.mean()\n",
    "X = np.transpose(x) @ x / len(x)\n",
    "Y = y @ x /len(y)\n",
    "A = X - np.multiply.outer(x_bar, x_bar)\n",
    "w = np.linalg.solve(A,Y-y_bar*x_bar)\n",
    "b = y_bar - x_bar@w\n",
    "print(w,b)"
   ]
  },
  {
   "cell_type": "markdown",
   "metadata": {},
   "source": [
    "#### Problem 4"
   ]
  },
  {
   "cell_type": "markdown",
   "metadata": {},
   "source": [
    "Implement functions `grad_w(y,x,w,b)` and `grad_b(y,x,w,b)` implementing those gradients.  "
   ]
  },
  {
   "cell_type": "code",
   "execution_count": 8,
   "metadata": {},
   "outputs": [],
   "source": [
    "def grad_w(y, x, w, b):\n",
    "    return np.array([np.sum((linear(x, w, b) - y)*x.T[i]) / len(y) for i in range(len(w))])"
   ]
  },
  {
   "cell_type": "code",
   "execution_count": 9,
   "metadata": {},
   "outputs": [],
   "source": [
    "def grad_b(y, x, w, b):\n",
    "    return np.sum(((linear(x, w, b)) - y)) / len(y)"
   ]
  },
  {
   "cell_type": "markdown",
   "metadata": {},
   "source": [
    "### Gradient descent "
   ]
  },
  {
   "cell_type": "markdown",
   "metadata": {},
   "source": [
    "#### Problem 5"
   ]
  },
  {
   "cell_type": "markdown",
   "metadata": {},
   "source": [
    "Implement gradient descent for linear regression. Starting from "
   ]
  },
  {
   "cell_type": "code",
   "execution_count": 10,
   "metadata": {},
   "outputs": [],
   "source": [
    "w = np.asarray([0.0,0.0,0.0], dtype='float64')\n",
    "b = 1.0"
   ]
  },
  {
   "cell_type": "code",
   "execution_count": 11,
   "metadata": {},
   "outputs": [
    {
     "data": {
      "text/plain": [
       "2.00872111208394"
      ]
     },
     "execution_count": 11,
     "metadata": {},
     "output_type": "execute_result"
    }
   ],
   "source": [
    "mse(y, x, w, b)"
   ]
  },
  {
   "cell_type": "code",
   "execution_count": 12,
   "metadata": {
    "scrolled": true
   },
   "outputs": [
    {
     "name": "stdout",
     "output_type": "stream",
     "text": [
      "\n",
      "Iteration 0\n",
      "Error = 1.0718790563065617\n",
      "\n",
      "Iteration 100\n",
      "Error = 0.021898909354962564\n",
      "\n",
      "Iteration 200\n",
      "Error = 0.009473706546055905\n",
      "\n",
      "Iteration 300\n",
      "Error = 0.006164553256500649\n",
      "\n",
      "Iteration 400\n",
      "Error = 0.005283239942256098\n",
      "\n",
      "Iteration 500\n",
      "Error = 0.005048523357709753\n",
      "\n",
      "Iteration 600\n",
      "Error = 0.004986012245973826\n",
      "\n",
      "Iteration 700\n",
      "Error = 0.004969363916253052\n",
      "\n",
      "Iteration 800\n",
      "Error = 0.00496493003442317\n",
      "\n",
      "Iteration 900\n",
      "Error = 0.004963749176738881\n"
     ]
    }
   ],
   "source": [
    "learning_rate = 0.1\n",
    "iterations = 1000\n",
    "errors = []\n",
    "\n",
    "for i in range(iterations):\n",
    "    g_w = grad_w(y, x, w, b)\n",
    "    g_b = grad_b(y, x, w, b)\n",
    "    \n",
    "    w = w - learning_rate*g_w\n",
    "    b = b - learning_rate*g_b\n",
    "    errors.append(mse(y, x, w, b))\n",
    "    \n",
    "    if i % 100 == 0:\n",
    "        print()\n",
    "        print(f'Iteration {i}')\n",
    "        print(f'Error = {errors[i]}')"
   ]
  },
  {
   "cell_type": "code",
   "execution_count": 13,
   "metadata": {},
   "outputs": [
    {
     "data": {
      "image/png": "[encoded data removed]",
      "text/plain": [
       "<Figure size 1008x720 with 1 Axes>"
      ]
     },
     "metadata": {
      "needs_background": "light"
     },
     "output_type": "display_data"
    }
   ],
   "source": [
    "plt.figure(figsize=(14, 10))\n",
    "plt.xlabel('Iterations')\n",
    "plt.ylabel('Error')\n",
    "\n",
    "for i, error in enumerate(errors):\n",
    "    if error <= 0.0075:\n",
    "        plt.scatter(i, error, color='steelblue')\n",
    "        \n",
    "plt.plot(range(iterations), errors, color='darkred')\n",
    "plt.show()"
   ]
  },
  {
   "cell_type": "markdown",
   "metadata": {},
   "source": [
    "How many epochs did you need to get MSE below 0.0075 ? "
   ]
  },
  {
   "cell_type": "markdown",
   "metadata": {},
   "source": [
    "#### Problem 6"
   ]
  },
  {
   "cell_type": "markdown",
   "metadata": {},
   "source": [
    "Implement stochastic gradient descent (SGD)."
   ]
  },
  {
   "cell_type": "code",
   "execution_count": 14,
   "metadata": {},
   "outputs": [],
   "source": [
    "w = np.asarray([0.0,0.0,0.0], dtype='float64')\n",
    "b = 1.0 "
   ]
  },
  {
   "cell_type": "markdown",
   "metadata": {},
   "source": [
    "Starting from same parameters as above and "
   ]
  },
  {
   "cell_type": "code",
   "execution_count": 15,
   "metadata": {},
   "outputs": [],
   "source": [
    "batch_size = 100"
   ]
  },
  {
   "cell_type": "code",
   "execution_count": 16,
   "metadata": {},
   "outputs": [
    {
     "name": "stdout",
     "output_type": "stream",
     "text": [
      "\n",
      "Iteration 0\n",
      "Error = 1.0718790563065617\n",
      "\n",
      "Iteration 100\n",
      "Error = 0.021898909354962564\n",
      "\n",
      "Iteration 200\n",
      "Error = 0.009473706546055905\n",
      "\n",
      "Iteration 300\n",
      "Error = 0.006164553256500649\n",
      "\n",
      "Iteration 400\n",
      "Error = 0.005283239942256098\n",
      "\n",
      "Iteration 500\n",
      "Error = 0.005048523357709753\n",
      "\n",
      "Iteration 600\n",
      "Error = 0.004986012245973826\n",
      "\n",
      "Iteration 700\n",
      "Error = 0.004969363916253052\n",
      "\n",
      "Iteration 800\n",
      "Error = 0.00496493003442317\n",
      "\n",
      "Iteration 900\n",
      "Error = 0.004963749176738881\n"
     ]
    }
   ],
   "source": [
    "learning_rate = 0.1\n",
    "iterations = 1000\n",
    "errors = []\n",
    "\n",
    "for n in range(iterations):\n",
    "    random_indices = np.random.randint(0, len(y), batch_size)\n",
    "    x_batch = np.array([x[i] for i in random_indices])\n",
    "    y_batch = np.array([y[i] for i in random_indices])\n",
    "    \n",
    "    g_w = grad_w(y, x, w, b)\n",
    "    g_b = grad_b(y, x, w, b)\n",
    "    \n",
    "    w = w - learning_rate*g_w\n",
    "    b = b - learning_rate*g_b\n",
    "    errors.append(mse(y, x, w, b))\n",
    "    \n",
    "    if n % 100 == 0:\n",
    "        print()\n",
    "        print(f'Iteration {n}')\n",
    "        print(f'Error = {errors[n]}')"
   ]
  },
  {
   "cell_type": "code",
   "execution_count": 17,
   "metadata": {},
   "outputs": [
    {
     "data": {
      "image/png": "[encoded data removed]",
      "text/plain": [
       "<Figure size 1008x720 with 1 Axes>"
      ]
     },
     "metadata": {
      "needs_background": "light"
     },
     "output_type": "display_data"
    }
   ],
   "source": [
    "plt.figure(figsize=(14, 10))\n",
    "plt.xlabel('Iterations')\n",
    "plt.ylabel('Error')\n",
    "\n",
    "for i, error in enumerate(errors):\n",
    "    if error <= 0.0075:\n",
    "        plt.scatter(i, error, color='steelblue')\n",
    "        \n",
    "plt.plot(range(iterations), errors, color='darkred')\n",
    "plt.show()"
   ]
  },
  {
   "cell_type": "markdown",
   "metadata": {},
   "source": [
    "how many epochs did you need to get MSE below 0.0075 ?  "
   ]
  },
  {
   "cell_type": "markdown",
   "metadata": {},
   "source": [
    "### Pytorch "
   ]
  },
  {
   "cell_type": "markdown",
   "metadata": {},
   "source": [
    "#### Problem 7"
   ]
  },
  {
   "cell_type": "markdown",
   "metadata": {},
   "source": [
    "Implement SGD using pytorch. Start by just rewritting Problem 3 to use torch Tensors instead of numpy arrays. "
   ]
  },
  {
   "cell_type": "markdown",
   "metadata": {},
   "source": [
    "To convert frrom numpy arrays to torch tensors you can use ``torch.from_numpy()`` function: "
   ]
  },
  {
   "cell_type": "code",
   "execution_count": 18,
   "metadata": {},
   "outputs": [],
   "source": [
    "import torch as t \n",
    "from torch.autograd import Variable"
   ]
  },
  {
   "cell_type": "code",
   "execution_count": 19,
   "metadata": {},
   "outputs": [],
   "source": [
    "t_y = Variable(t.from_numpy(y), requires_grad=True)\n",
    "t_x = Variable(t.from_numpy(x), requires_grad=True)\n",
    "t_w = Variable(t.DoubleTensor([[0,0,0]]), requires_grad=True)\n",
    "t_b = Variable(t.DoubleTensor([1.0]), requires_grad=True)"
   ]
  },
  {
   "cell_type": "code",
   "execution_count": 20,
   "metadata": {},
   "outputs": [],
   "source": [
    "def linear(x, w, b):\n",
    "    return w.mm(t.transpose(x, 0, 1)) + b"
   ]
  },
  {
   "cell_type": "code",
   "execution_count": 21,
   "metadata": {},
   "outputs": [
    {
     "data": {
      "text/plain": [
       "tensor([[1., 1., 1.,  ..., 1., 1., 1.]], dtype=torch.float64,\n",
       "       grad_fn=<AddBackward0>)"
      ]
     },
     "execution_count": 21,
     "metadata": {},
     "output_type": "execute_result"
    }
   ],
   "source": [
    "linear(t_x, t_w, t_b)"
   ]
  },
  {
   "cell_type": "code",
   "execution_count": 22,
   "metadata": {},
   "outputs": [],
   "source": [
    "def mse(y, x, w, b):\n",
    "    return t.sum(t.square(y - linear(w, x, b))) / (2*len(y))"
   ]
  },
  {
   "cell_type": "code",
   "execution_count": 23,
   "metadata": {},
   "outputs": [
    {
     "data": {
      "text/plain": [
       "tensor(20087.2111, dtype=torch.float64, grad_fn=<DivBackward0>)"
      ]
     },
     "execution_count": 23,
     "metadata": {},
     "output_type": "execute_result"
    }
   ],
   "source": [
    "mse(t_y, t_x, t_w, t_b)"
   ]
  },
  {
   "cell_type": "markdown",
   "metadata": {},
   "source": [
    "#### Problem 8 "
   ]
  },
  {
   "cell_type": "markdown",
   "metadata": {},
   "source": [
    "Implement SGD using pytorch automatic differentiation."
   ]
  },
  {
   "cell_type": "markdown",
   "metadata": {},
   "source": [
    "To this end the variable with respect to which the gradient will be calculated, ``t_w`` in this case, must have attribute\n",
    "``requires_grad`` set to ``True`` (``t_w.require_grad=True``)."
   ]
  },
  {
   "cell_type": "markdown",
   "metadata": {},
   "source": [
    "The torch will automatically track any expression containing ``t_w`` and store its computational graph. The method ``backward()`` can be run on the final expression to back propagate the gradient e.g. ``loss.backward()``. Then the gradient is accesible as ``t_w.grad``."
   ]
  },
  {
   "cell_type": "code",
   "execution_count": 24,
   "metadata": {},
   "outputs": [
    {
     "data": {
      "text/plain": [
       "tensor([1.], dtype=torch.float64, requires_grad=True)"
      ]
     },
     "execution_count": 24,
     "metadata": {},
     "output_type": "execute_result"
    }
   ],
   "source": [
    "t_y = t.from_numpy(y)\n",
    "t_x = t.from_numpy(x)\n",
    "t_w = t.DoubleTensor([0,0,0])\n",
    "t_b = t.DoubleTensor([1.0])\n",
    "t_w.requires_grad_(True)\n",
    "t_b.requires_grad_(True)"
   ]
  },
  {
   "cell_type": "markdown",
   "metadata": {},
   "source": [
    "#### Problem 9 "
   ]
  },
  {
   "cell_type": "markdown",
   "metadata": {},
   "source": [
    "Implement SGD using pytorch  optimisers. "
   ]
  },
  {
   "cell_type": "code",
   "execution_count": 28,
   "metadata": {},
   "outputs": [],
   "source": [
    "import torch\n",
    "import torch.nn as nn\n",
    "import torch.optim as optim\n",
    "from torch.autograd import Variable\n",
    "\n",
    "t_y = Variable(t.from_numpy(y), requires_grad=True)\n",
    "t_x = Variable(t.from_numpy(x), requires_grad=True)\n",
    "t_w = Variable(t.DoubleTensor([0,0,0]), requires_grad=True)\n",
    "t_b = Variable(t.DoubleTensor([1.0]), requires_grad=True)"
   ]
  },
  {
   "cell_type": "code",
   "execution_count": 29,
   "metadata": {},
   "outputs": [],
   "source": [
    "model = nn.Linear(3, 1)\n",
    "optimizer = optim.SGD(model.parameters(), lr=0.1)\n",
    "loss_fn = nn.MSELoss()"
   ]
  },
  {
   "cell_type": "code",
   "execution_count": 33,
   "metadata": {},
   "outputs": [],
   "source": [
    "iterations = 10\n",
    "\n",
    "for _ in range(0, iterations):\n",
    "    optimizer.zero_grad()\n",
    "    predictions = model(t_x.float())\n",
    "    loss = loss_fn(predictions, t_y.float())\n",
    "    loss.backward()\n",
    "    optimizer.step()"
   ]
  },
  {
   "cell_type": "code",
   "execution_count": null,
   "metadata": {},
   "outputs": [],
   "source": []
  }
 ],
 "metadata": {
  "jupytext": {
   "cell_metadata_json": true
  },
  "kernelspec": {
   "display_name": "Python 3",
   "language": "python",
   "name": "python3"
  },
  "language_info": {
   "codemirror_mode": {
    "name": "ipython",
    "version": 3
   },
   "file_extension": ".py",
   "mimetype": "text/x-python",
   "name": "python",
   "nbconvert_exporter": "python",
   "pygments_lexer": "ipython3",
   "version": "3.8.3"
  }
 },
 "nbformat": 4,
 "nbformat_minor": 4
}
